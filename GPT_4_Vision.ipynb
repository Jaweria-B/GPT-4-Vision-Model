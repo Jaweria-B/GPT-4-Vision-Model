{
  "nbformat": 4,
  "nbformat_minor": 0,
  "metadata": {
    "colab": {
      "provenance": []
    },
    "kernelspec": {
      "name": "python3",
      "display_name": "Python 3"
    },
    "language_info": {
      "name": "python"
    }
  },
  "cells": [
    {
      "cell_type": "code",
      "source": [
        "# install ClarifAi\n",
        "!pip install -U clarifai"
      ],
      "metadata": {
        "colab": {
          "base_uri": "https://localhost:8080/"
        },
        "id": "pMks01uJZWi1",
        "outputId": "ecec0c5d-f3f7-4736-e684-f8aeaae407b9"
      },
      "execution_count": 10,
      "outputs": [
        {
          "output_type": "stream",
          "name": "stdout",
          "text": [
            "Requirement already satisfied: clarifai in /usr/local/lib/python3.10/dist-packages (9.11.1)\n",
            "Requirement already satisfied: clarifai-grpc~=9.11.5 in /usr/local/lib/python3.10/dist-packages (from clarifai) (9.11.5)\n",
            "Requirement already satisfied: pandas>=1.3.5 in /usr/local/lib/python3.10/dist-packages (from clarifai) (1.5.3)\n",
            "Requirement already satisfied: numpy>=1.22.0 in /usr/local/lib/python3.10/dist-packages (from clarifai) (1.23.5)\n",
            "Requirement already satisfied: tqdm>=4.65.0 in /usr/local/lib/python3.10/dist-packages (from clarifai) (4.66.1)\n",
            "Requirement already satisfied: opencv-python>=4.7.0.68 in /usr/local/lib/python3.10/dist-packages (from clarifai) (4.8.0.76)\n",
            "Requirement already satisfied: tritonclient>=2.34.0 in /usr/local/lib/python3.10/dist-packages (from clarifai) (2.41.0)\n",
            "Requirement already satisfied: rich>=13.4.2 in /usr/local/lib/python3.10/dist-packages (from clarifai) (13.7.0)\n",
            "Requirement already satisfied: PyYAML>=6.0.1 in /usr/local/lib/python3.10/dist-packages (from clarifai) (6.0.1)\n",
            "Requirement already satisfied: schema>=0.7.5 in /usr/local/lib/python3.10/dist-packages (from clarifai) (0.7.5)\n",
            "Requirement already satisfied: Pillow>=9.5.0 in /usr/local/lib/python3.10/dist-packages (from clarifai) (10.2.0)\n",
            "Requirement already satisfied: grpcio>=1.44.0 in /usr/local/lib/python3.10/dist-packages (from clarifai-grpc~=9.11.5->clarifai) (1.60.0)\n",
            "Requirement already satisfied: protobuf>=3.20.3 in /usr/local/lib/python3.10/dist-packages (from clarifai-grpc~=9.11.5->clarifai) (3.20.3)\n",
            "Requirement already satisfied: googleapis-common-protos>=1.53.0 in /usr/local/lib/python3.10/dist-packages (from clarifai-grpc~=9.11.5->clarifai) (1.62.0)\n",
            "Requirement already satisfied: requests>=2.25.1 in /usr/local/lib/python3.10/dist-packages (from clarifai-grpc~=9.11.5->clarifai) (2.31.0)\n",
            "Requirement already satisfied: python-dateutil>=2.8.1 in /usr/local/lib/python3.10/dist-packages (from pandas>=1.3.5->clarifai) (2.8.2)\n",
            "Requirement already satisfied: pytz>=2020.1 in /usr/local/lib/python3.10/dist-packages (from pandas>=1.3.5->clarifai) (2023.3.post1)\n",
            "Requirement already satisfied: markdown-it-py>=2.2.0 in /usr/local/lib/python3.10/dist-packages (from rich>=13.4.2->clarifai) (3.0.0)\n",
            "Requirement already satisfied: pygments<3.0.0,>=2.13.0 in /usr/local/lib/python3.10/dist-packages (from rich>=13.4.2->clarifai) (2.16.1)\n",
            "Requirement already satisfied: contextlib2>=0.5.5 in /usr/local/lib/python3.10/dist-packages (from schema>=0.7.5->clarifai) (21.6.0)\n",
            "Requirement already satisfied: python-rapidjson>=0.9.1 in /usr/local/lib/python3.10/dist-packages (from tritonclient>=2.34.0->clarifai) (1.14)\n",
            "Requirement already satisfied: mdurl~=0.1 in /usr/local/lib/python3.10/dist-packages (from markdown-it-py>=2.2.0->rich>=13.4.2->clarifai) (0.1.2)\n",
            "Requirement already satisfied: six>=1.5 in /usr/local/lib/python3.10/dist-packages (from python-dateutil>=2.8.1->pandas>=1.3.5->clarifai) (1.16.0)\n",
            "Requirement already satisfied: charset-normalizer<4,>=2 in /usr/local/lib/python3.10/dist-packages (from requests>=2.25.1->clarifai-grpc~=9.11.5->clarifai) (3.3.2)\n",
            "Requirement already satisfied: idna<4,>=2.5 in /usr/local/lib/python3.10/dist-packages (from requests>=2.25.1->clarifai-grpc~=9.11.5->clarifai) (3.6)\n",
            "Requirement already satisfied: urllib3<3,>=1.21.1 in /usr/local/lib/python3.10/dist-packages (from requests>=2.25.1->clarifai-grpc~=9.11.5->clarifai) (2.0.7)\n",
            "Requirement already satisfied: certifi>=2017.4.17 in /usr/local/lib/python3.10/dist-packages (from requests>=2.25.1->clarifai-grpc~=9.11.5->clarifai) (2023.11.17)\n"
          ]
        }
      ]
    },
    {
      "cell_type": "code",
      "source": [
        "# Provide Clarifai User Key\n",
        "%env CLARIFAI_PAT ="
      ],
      "metadata": {
        "colab": {
          "base_uri": "https://localhost:8080/"
        },
        "id": "KttwtgueZ1Lz",
        "outputId": "4e879dea-f714-4207-c047-7e1e7b0347b5"
      },
      "execution_count": 11,
      "outputs": [
        {
          "output_type": "stream",
          "name": "stdout",
          "text": [
            "env: CLARIFAI_PAT=\n"
          ]
        }
      ]
    },
    {
      "cell_type": "code",
      "source": [
        "# Import Model and Input\n",
        "from clarifai.client.model import Model\n",
        "from clarifai.client.input import Inputs\n",
        "\n",
        "# Provide a Prompt or Question statement\n",
        "prompt = \"What is being shown in this picture?\"\n",
        "\n",
        "# Image Url\n",
        "image_url = \"https://encrypted-tbn0.gstatic.com/images?q=tbn:ANd9GcTr0OPzsO4jY4ABvegIXBNPk4cYa1aheq9B8JrpfoEWW_R4Ep048seoU93BtCjHAi0TUkM&usqp=CAU\"\n",
        "\n",
        "# Setting the inference parameters\n",
        "inference_params = dict(temperature=0.2, max_tokens=100)\n",
        "\n",
        "# Using the model GPT-4-Vision for predictions\n",
        "# Passing the image-url and inference parameters\n",
        "model_prediction = Model(\"https://clarifai.com/openai/chat-completion/models/openai-gpt-4-vision\").predict(inputs = [Inputs.get_multimodal_input(input_id=\"\",image_url=image_url, raw_text=prompt)],inference_params=inference_params)\n",
        "\n",
        "# Output generated\n",
        "print(model_prediction.outputs[0].data.text.raw)"
      ],
      "metadata": {
        "colab": {
          "base_uri": "https://localhost:8080/"
        },
        "id": "FuVBO5ZSaBOa",
        "outputId": "49c6cdd7-d5e4-4c84-cb8e-64759494249f"
      },
      "execution_count": 9,
      "outputs": [
        {
          "output_type": "stream",
          "name": "stdout",
          "text": [
            "This image is a diagram illustrating the solar system and the position of the heliosphere. The heliosphere is the vast bubble-like region of space which surrounds and is created by the Sun. In this diagram, you can see concentric circles representing the orbits of the planets, such as Jupiter, Saturn, Uranus, Neptune, and dwarf planet Pluto. The diagram also shows the trajectories of the Voyager 1 and Voyager 2 spacecraft, which are on paths taking them out of the solar system. \n",
            "\n",
            "Two important boundaries are depicted: the \"termination shock,\" where the solar wind (a stream of charged particles emitted by the Sun) slows down as it begins to interact with the interstellar medium, and the \"heliopause,\" which is the boundary where the solar wind's strength is no longer sufficient to push back against the interstellar medium. The area between the termination shock and the heliopause is known as the \"heliosheath.\"\n",
            "\n",
            "The diagram serves to provide a conceptual understanding of the structure of the heliosphere and the relative distances of the Voyager spacecraft in relation to the rest of the solar system.\n"
          ]
        }
      ]
    }
  ]
}